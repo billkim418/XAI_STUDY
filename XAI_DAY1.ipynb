{
 "cells": [
  {
   "cell_type": "markdown",
   "metadata": {},
   "source": [
    "# XAI 스터디 내용 정리\n",
    "1. 블랙 박스 모델이라 부른다\n",
    "- 왜 그것을 했는가?\n",
    "- 왜 다른 것은 안 되는가?\n",
    "- 언제 그것이 성공하는가?\n",
    "- 언제 그것이 실패하는가?\n",
    "- 언제 결과를 신용할 수 있는가?\n",
    "- 어떻게 나는 오류를 수정할 수 있는가?\n",
    "위의 의문들에 대해 답을 주기가 힘들다.\n",
    "\n",
    "2. 설명 가능성이 필요한 이유\n",
    "- 일반화하기 어렵다.- train set이 실무 데이터와 fit하다고 자신할 수 있는가?\n",
    "- 규제 준수, 책임 규명 및 공정성 확보 -ai 윤리\n",
    "- 모델 디버깅 및 개선\n",
    "- Human in the loop - 알고리즘과 상호작용하며 어떻게 반응할 지 예측 가능한가?\n",
    "- Adversarial Attack - Noise에 대해 방어할 수 있는가?\n",
    "- 새로운 지식에 대한 가설과 발견\n",
    "\n",
    "3. 편향의 종류\n",
    "- 데이터의 편향\n",
    "- 모델의 편향\n",
    "- 알고리즘의 편향\n",
    "\n",
    "4. XAI 기법 종류\n",
    "- 피처 중요도\n",
    "- 부분 의존성 플롯\n",
    "- LIME\n",
    "- SHARP\n",
    "5. XAI가 주는 효과\n",
    "- 엔지니어의 결론 도출 및 error 수정\n",
    "- 비전문가의 해석 가능"
   ]
  },
  {
   "cell_type": "markdown",
   "metadata": {},
   "source": []
  }
 ],
 "metadata": {
  "kernelspec": {
   "display_name": "Python 3",
   "language": "python",
   "name": "python3"
  },
  "language_info": {
   "codemirror_mode": {
    "name": "ipython",
    "version": 3
   },
   "file_extension": ".py",
   "mimetype": "text/x-python",
   "name": "python",
   "nbconvert_exporter": "python",
   "pygments_lexer": "ipython3",
   "version": "3.8.5"
  }
 },
 "nbformat": 4,
 "nbformat_minor": 4
}
